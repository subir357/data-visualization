{
 "cells": [
  {
   "cell_type": "code",
   "execution_count": 1,
   "metadata": {},
   "outputs": [],
   "source": [
    "#library\n",
    "import pandas as pd\n",
    "import matplotlib.pyplot as plt\n",
    "%matplotlib inline\n",
    "import pandasql as sql\n",
    "import numpy as np"
   ]
  },
  {
   "cell_type": "code",
   "execution_count": 2,
   "metadata": {},
   "outputs": [
    {
     "data": {
      "text/html": [
       "<div>\n",
       "<style scoped>\n",
       "    .dataframe tbody tr th:only-of-type {\n",
       "        vertical-align: middle;\n",
       "    }\n",
       "\n",
       "    .dataframe tbody tr th {\n",
       "        vertical-align: top;\n",
       "    }\n",
       "\n",
       "    .dataframe thead th {\n",
       "        text-align: right;\n",
       "    }\n",
       "</style>\n",
       "<table border=\"1\" class=\"dataframe\">\n",
       "  <thead>\n",
       "    <tr style=\"text-align: right;\">\n",
       "      <th></th>\n",
       "      <th>ITILProcessType</th>\n",
       "      <th>Complexity</th>\n",
       "      <th>Effort</th>\n",
       "      <th>Service Domain type</th>\n",
       "    </tr>\n",
       "  </thead>\n",
       "  <tbody>\n",
       "    <tr>\n",
       "      <th>0</th>\n",
       "      <td>Release Management</td>\n",
       "      <td>Medium</td>\n",
       "      <td>55</td>\n",
       "      <td>App suport</td>\n",
       "    </tr>\n",
       "    <tr>\n",
       "      <th>1</th>\n",
       "      <td>Release Management</td>\n",
       "      <td>Medium</td>\n",
       "      <td>55</td>\n",
       "      <td>App suport</td>\n",
       "    </tr>\n",
       "    <tr>\n",
       "      <th>2</th>\n",
       "      <td>Service Request</td>\n",
       "      <td>Medium</td>\n",
       "      <td>72</td>\n",
       "      <td>Database Support</td>\n",
       "    </tr>\n",
       "    <tr>\n",
       "      <th>3</th>\n",
       "      <td>Release Management</td>\n",
       "      <td>Medium</td>\n",
       "      <td>55</td>\n",
       "      <td>App suport</td>\n",
       "    </tr>\n",
       "    <tr>\n",
       "      <th>4</th>\n",
       "      <td>Release Management</td>\n",
       "      <td>Medium</td>\n",
       "      <td>55</td>\n",
       "      <td>App suport</td>\n",
       "    </tr>\n",
       "  </tbody>\n",
       "</table>\n",
       "</div>"
      ],
      "text/plain": [
       "      ITILProcessType Complexity  Effort Service Domain type\n",
       "0  Release Management     Medium      55          App suport\n",
       "1  Release Management     Medium      55          App suport\n",
       "2     Service Request     Medium      72    Database Support\n",
       "3  Release Management     Medium      55          App suport\n",
       "4  Release Management     Medium      55          App suport"
      ]
     },
     "execution_count": 2,
     "metadata": {},
     "output_type": "execute_result"
    }
   ],
   "source": [
    "data=pd.read_excel(\"/home/sd/Downloads/Effort_Data.xlsx\")\n",
    "data.head()"
   ]
  },
  {
   "cell_type": "code",
   "execution_count": 3,
   "metadata": {},
   "outputs": [
    {
     "data": {
      "text/html": [
       "<div>\n",
       "<style scoped>\n",
       "    .dataframe tbody tr th:only-of-type {\n",
       "        vertical-align: middle;\n",
       "    }\n",
       "\n",
       "    .dataframe tbody tr th {\n",
       "        vertical-align: top;\n",
       "    }\n",
       "\n",
       "    .dataframe thead th {\n",
       "        text-align: right;\n",
       "    }\n",
       "</style>\n",
       "<table border=\"1\" class=\"dataframe\">\n",
       "  <thead>\n",
       "    <tr style=\"text-align: right;\">\n",
       "      <th></th>\n",
       "      <th>ITILProcessType</th>\n",
       "      <th>Complexity</th>\n",
       "      <th>Effort</th>\n",
       "      <th>ServiceDomaintype</th>\n",
       "    </tr>\n",
       "  </thead>\n",
       "  <tbody>\n",
       "    <tr>\n",
       "      <th>0</th>\n",
       "      <td>Release Management</td>\n",
       "      <td>Medium</td>\n",
       "      <td>55</td>\n",
       "      <td>App suport</td>\n",
       "    </tr>\n",
       "    <tr>\n",
       "      <th>1</th>\n",
       "      <td>Release Management</td>\n",
       "      <td>Medium</td>\n",
       "      <td>55</td>\n",
       "      <td>App suport</td>\n",
       "    </tr>\n",
       "    <tr>\n",
       "      <th>2</th>\n",
       "      <td>Service Request</td>\n",
       "      <td>Medium</td>\n",
       "      <td>72</td>\n",
       "      <td>Database Support</td>\n",
       "    </tr>\n",
       "    <tr>\n",
       "      <th>3</th>\n",
       "      <td>Release Management</td>\n",
       "      <td>Medium</td>\n",
       "      <td>55</td>\n",
       "      <td>App suport</td>\n",
       "    </tr>\n",
       "    <tr>\n",
       "      <th>4</th>\n",
       "      <td>Release Management</td>\n",
       "      <td>Medium</td>\n",
       "      <td>55</td>\n",
       "      <td>App suport</td>\n",
       "    </tr>\n",
       "  </tbody>\n",
       "</table>\n",
       "</div>"
      ],
      "text/plain": [
       "      ITILProcessType Complexity  Effort ServiceDomaintype\n",
       "0  Release Management     Medium      55        App suport\n",
       "1  Release Management     Medium      55        App suport\n",
       "2     Service Request     Medium      72  Database Support\n",
       "3  Release Management     Medium      55        App suport\n",
       "4  Release Management     Medium      55        App suport"
      ]
     },
     "execution_count": 3,
     "metadata": {},
     "output_type": "execute_result"
    }
   ],
   "source": [
    "# remove special characters and space in the column name\n",
    "data.columns = data.columns.str.replace('[#]', '')\n",
    "data.columns = data.columns.str.replace(' ', '')"
   ]
  },
  {
   "cell_type": "markdown",
   "metadata": {},
   "source": [
    "## Data set and short descreption for numeric variable\n"
   ]
  },
  {
   "cell_type": "code",
   "execution_count": 4,
   "metadata": {},
   "outputs": [
    {
     "data": {
      "text/plain": [
       "count    6460.000000\n",
       "mean       81.263777\n",
       "std        84.607490\n",
       "min         1.000000\n",
       "25%        30.000000\n",
       "50%        52.000000\n",
       "75%       103.000000\n",
       "max       646.000000\n",
       "Name: Effort, dtype: float64"
      ]
     },
     "execution_count": 4,
     "metadata": {},
     "output_type": "execute_result"
    }
   ],
   "source": [
    "data.Effort.describe()"
   ]
  },
  {
   "cell_type": "code",
   "execution_count": 57,
   "metadata": {},
   "outputs": [
    {
     "data": {
      "image/png": "[encoded data removed]",
      "text/plain": [
       "<Figure size 432x288 with 1 Axes>"
      ]
     },
     "metadata": {
      "needs_background": "light"
     },
     "output_type": "display_data"
    }
   ],
   "source": [
    "#histogram plot\n",
    "x=data.Effort\n",
    "plt.hist(x,bins=30,rwidth=.9)\n",
    "plt.show()"
   ]
  },
  {
   "cell_type": "markdown",
   "metadata": {},
   "source": [
    "#### comment: most of the work are less effort and very few work take very high effort. \n",
    "#### The histogram is positively Skewed."
   ]
  },
  {
   "cell_type": "markdown",
   "metadata": {},
   "source": [
    "## Domain Wise descreption"
   ]
  },
  {
   "cell_type": "code",
   "execution_count": 41,
   "metadata": {},
   "outputs": [],
   "source": [
    "#total effort count\n",
    "total_Effort=sql.sqldf(\"\"\"\n",
    "                        select sum(Effort)\n",
    "                        from data\"\"\")"
   ]
  },
  {
   "cell_type": "code",
   "execution_count": 38,
   "metadata": {},
   "outputs": [
    {
     "data": {
      "text/html": [
       "<div>\n",
       "<style scoped>\n",
       "    .dataframe tbody tr th:only-of-type {\n",
       "        vertical-align: middle;\n",
       "    }\n",
       "\n",
       "    .dataframe tbody tr th {\n",
       "        vertical-align: top;\n",
       "    }\n",
       "\n",
       "    .dataframe thead th {\n",
       "        text-align: right;\n",
       "    }\n",
       "</style>\n",
       "<table border=\"1\" class=\"dataframe\">\n",
       "  <thead>\n",
       "    <tr style=\"text-align: right;\">\n",
       "      <th></th>\n",
       "      <th>ServiceDomaintype</th>\n",
       "      <th>count_ServiceDomaintype</th>\n",
       "      <th>percentage_servicedomain</th>\n",
       "      <th>sum_effort</th>\n",
       "      <th>percentage_effort</th>\n",
       "      <th>avarage_effort</th>\n",
       "    </tr>\n",
       "  </thead>\n",
       "  <tbody>\n",
       "    <tr>\n",
       "      <th>0</th>\n",
       "      <td>Database Support</td>\n",
       "      <td>4080</td>\n",
       "      <td>63.157895</td>\n",
       "      <td>294729</td>\n",
       "      <td>56.142707</td>\n",
       "      <td>72</td>\n",
       "    </tr>\n",
       "    <tr>\n",
       "      <th>1</th>\n",
       "      <td>App suport</td>\n",
       "      <td>2380</td>\n",
       "      <td>36.842105</td>\n",
       "      <td>230235</td>\n",
       "      <td>43.857293</td>\n",
       "      <td>96</td>\n",
       "    </tr>\n",
       "  </tbody>\n",
       "</table>\n",
       "</div>"
      ],
      "text/plain": [
       "  ServiceDomaintype  count_ServiceDomaintype  percentage_servicedomain  \\\n",
       "0  Database Support                     4080                 63.157895   \n",
       "1        App suport                     2380                 36.842105   \n",
       "\n",
       "   sum_effort  percentage_effort  avarage_effort  \n",
       "0      294729          56.142707              72  \n",
       "1      230235          43.857293              96  "
      ]
     },
     "metadata": {},
     "output_type": "display_data"
    },
    {
     "name": "stdout",
     "output_type": "stream",
     "text": [
      "\n",
      "\n",
      "\n",
      "\n"
     ]
    },
    {
     "data": {
      "image/png": "[encoded data removed]",
      "text/plain": [
       "<Figure size 432x288 with 1 Axes>"
      ]
     },
     "metadata": {},
     "output_type": "display_data"
    },
    {
     "data": {
      "image/png": "[encoded data removed]",
      "text/plain": [
       "<Figure size 432x288 with 1 Axes>"
      ]
     },
     "metadata": {},
     "output_type": "display_data"
    },
    {
     "data": {
      "image/png": "[encoded data removed]",
      "text/plain": [
       "<Figure size 432x288 with 1 Axes>"
      ]
     },
     "metadata": {},
     "output_type": "display_data"
    }
   ],
   "source": [
    "d=np.shape(data)[0]/100\n",
    "different_NUM_ServiceDomaintype=sql.sqldf(\"\"\"\n",
    "                                            select ServiceDomaintype,count(ServiceDomaintype) as count_ServiceDomaintype\n",
    "                                            ,count(ServiceDomaintype)/\"\"\"+str(d)+\"\"\" as percentage_servicedomain,sum(Effort) as sum_effort,sum(Effort)/5249.64 as percentage_effort\n",
    "                                            ,sum(Effort)/count(ServiceDomaintype) as avarage_effort\n",
    "                                            from data\n",
    "                                            group by ServiceDomaintype\n",
    "                                            order by count_ServiceDomaintype desc\"\"\")\n",
    "display(different_NUM_ServiceDomaintype)\n",
    "\n",
    "\n",
    "# pie chart of total count Service Domain type\n",
    "\n",
    "x=different_NUM_ServiceDomaintype.count_ServiceDomaintype\n",
    "y=different_NUM_ServiceDomaintype.ServiceDomaintype\n",
    "z=round(different_NUM_ServiceDomaintype.percentage_servicedomain)\n",
    "plt.pie(x, labels = z)\n",
    "plt.legend(y,loc=7)\n",
    "plt.xlabel(\"Count of different service domain\",fontsize=18)\n",
    "plt.show()\n",
    "\n",
    "\n",
    "#pie chart of sum of effort of Service Domain type\n",
    "x=different_NUM_ServiceDomaintype.sum_effort \n",
    "y=different_NUM_ServiceDomaintype.ServiceDomaintype\n",
    "z=round(different_NUM_ServiceDomaintype.percentage_effort)\n",
    "plt.pie(x, labels = z)\n",
    "plt.legend(y,loc=7)\n",
    "plt.xlabel(\"effort for different domain \",fontsize=18)\n",
    "plt.show()\n",
    "\n",
    " \n",
    "# pie chart of avarage effort of per domain\n",
    "x=different_NUM_ServiceDomaintype.avarage_effort\n",
    "y=different_NUM_ServiceDomaintype.ServiceDomaintype\n",
    "\n",
    "plt.pie(x, labels = x)\n",
    "plt.legend(y,loc=7)\n",
    "plt.xlabel(\"avarage effort per work \",fontsize=18)\n",
    "plt.show()"
   ]
  },
  {
   "cell_type": "markdown",
   "metadata": {},
   "source": [
    "### comment: Avarage effort for Database Support service domain is less compare to App Support service domain. Although there are approxmately 70% more work in Database support (in count) than App Support domain.\n",
    "\n",
    "\n",
    "\n",
    "\n"
   ]
  },
  {
   "cell_type": "markdown",
   "metadata": {},
   "source": [
    "#  "
   ]
  },
  {
   "cell_type": "markdown",
   "metadata": {},
   "source": [
    "# Box plot of effort"
   ]
  },
  {
   "cell_type": "code",
   "execution_count": 42,
   "metadata": {
    "scrolled": true
   },
   "outputs": [
    {
     "data": {
      "image/png": "[encoded data removed]",
      "text/plain": [
       "<Figure size 432x288 with 1 Axes>"
      ]
     },
     "metadata": {
      "needs_background": "light"
     },
     "output_type": "display_data"
    }
   ],
   "source": [
    "x=data.Effort\n",
    "plt.boxplot(x)\n",
    "plt.show()"
   ]
  },
  {
   "cell_type": "markdown",
   "metadata": {},
   "source": [
    "### There are many upper outliers that means there are small number of works which takes more time compare to other work. "
   ]
  },
  {
   "cell_type": "markdown",
   "metadata": {},
   "source": [
    "## Outliers Identification"
   ]
  },
  {
   "cell_type": "code",
   "execution_count": 9,
   "metadata": {},
   "outputs": [
    {
     "data": {
      "text/plain": [
       "212.5"
      ]
     },
     "metadata": {},
     "output_type": "display_data"
    },
    {
     "data": {
      "text/plain": [
       "-79.5"
      ]
     },
     "metadata": {},
     "output_type": "display_data"
    }
   ],
   "source": [
    "#IQR=Q_3-Q_1\n",
    "Q_3=103.000000\n",
    "Q_1=30.000000\n",
    "IQR=Q_3-Q_1\n",
    "uper_outlayers=Q_3+1.5*IQR\n",
    "display(uper_outlayers)\n",
    "lower_outlayers=Q_1-1.5*IQR\n",
    "display(lower_outlayers)"
   ]
  },
  {
   "cell_type": "code",
   "execution_count": 47,
   "metadata": {},
   "outputs": [
    {
     "name": "stdout",
     "output_type": "stream",
     "text": [
      "Table of outlayer is as follows\n"
     ]
    },
    {
     "data": {
      "text/html": [
       "<div>\n",
       "<style scoped>\n",
       "    .dataframe tbody tr th:only-of-type {\n",
       "        vertical-align: middle;\n",
       "    }\n",
       "\n",
       "    .dataframe tbody tr th {\n",
       "        vertical-align: top;\n",
       "    }\n",
       "\n",
       "    .dataframe thead th {\n",
       "        text-align: right;\n",
       "    }\n",
       "</style>\n",
       "<table border=\"1\" class=\"dataframe\">\n",
       "  <thead>\n",
       "    <tr style=\"text-align: right;\">\n",
       "      <th></th>\n",
       "      <th>ITILProcessType</th>\n",
       "      <th>Complexity</th>\n",
       "      <th>Effort</th>\n",
       "      <th>ServiceDomaintype</th>\n",
       "    </tr>\n",
       "  </thead>\n",
       "  <tbody>\n",
       "    <tr>\n",
       "      <th>0</th>\n",
       "      <td>Service Request</td>\n",
       "      <td>Medium</td>\n",
       "      <td>605</td>\n",
       "      <td>App suport</td>\n",
       "    </tr>\n",
       "    <tr>\n",
       "      <th>1</th>\n",
       "      <td>Release Management</td>\n",
       "      <td>Medium</td>\n",
       "      <td>511</td>\n",
       "      <td>App suport</td>\n",
       "    </tr>\n",
       "    <tr>\n",
       "      <th>2</th>\n",
       "      <td>Service Request</td>\n",
       "      <td>Medium</td>\n",
       "      <td>258</td>\n",
       "      <td>App suport</td>\n",
       "    </tr>\n",
       "    <tr>\n",
       "      <th>3</th>\n",
       "      <td>Service Request</td>\n",
       "      <td>Medium</td>\n",
       "      <td>410</td>\n",
       "      <td>App suport</td>\n",
       "    </tr>\n",
       "    <tr>\n",
       "      <th>4</th>\n",
       "      <td>Incident Management</td>\n",
       "      <td>Medium</td>\n",
       "      <td>225</td>\n",
       "      <td>App suport</td>\n",
       "    </tr>\n",
       "    <tr>\n",
       "      <th>...</th>\n",
       "      <td>...</td>\n",
       "      <td>...</td>\n",
       "      <td>...</td>\n",
       "      <td>...</td>\n",
       "    </tr>\n",
       "    <tr>\n",
       "      <th>436</th>\n",
       "      <td>Service Request</td>\n",
       "      <td>Simple</td>\n",
       "      <td>238</td>\n",
       "      <td>App suport</td>\n",
       "    </tr>\n",
       "    <tr>\n",
       "      <th>437</th>\n",
       "      <td>Service Request</td>\n",
       "      <td>Simple</td>\n",
       "      <td>236</td>\n",
       "      <td>Database Support</td>\n",
       "    </tr>\n",
       "    <tr>\n",
       "      <th>438</th>\n",
       "      <td>Incident Management</td>\n",
       "      <td>Medium</td>\n",
       "      <td>314</td>\n",
       "      <td>Database Support</td>\n",
       "    </tr>\n",
       "    <tr>\n",
       "      <th>439</th>\n",
       "      <td>Incident Management</td>\n",
       "      <td>Complex</td>\n",
       "      <td>360</td>\n",
       "      <td>Database Support</td>\n",
       "    </tr>\n",
       "    <tr>\n",
       "      <th>440</th>\n",
       "      <td>Incident Management</td>\n",
       "      <td>Complex</td>\n",
       "      <td>275</td>\n",
       "      <td>Database Support</td>\n",
       "    </tr>\n",
       "  </tbody>\n",
       "</table>\n",
       "<p>441 rows × 4 columns</p>\n",
       "</div>"
      ],
      "text/plain": [
       "         ITILProcessType Complexity  Effort ServiceDomaintype\n",
       "0        Service Request     Medium     605        App suport\n",
       "1     Release Management     Medium     511        App suport\n",
       "2        Service Request     Medium     258        App suport\n",
       "3        Service Request     Medium     410        App suport\n",
       "4    Incident Management     Medium     225        App suport\n",
       "..                   ...        ...     ...               ...\n",
       "436      Service Request     Simple     238        App suport\n",
       "437      Service Request     Simple     236  Database Support\n",
       "438  Incident Management     Medium     314  Database Support\n",
       "439  Incident Management    Complex     360  Database Support\n",
       "440  Incident Management    Complex     275  Database Support\n",
       "\n",
       "[441 rows x 4 columns]"
      ]
     },
     "metadata": {},
     "output_type": "display_data"
    },
    {
     "name": "stdout",
     "output_type": "stream",
     "text": [
      "Percentage of outlayer values is approxmately 7\n"
     ]
    }
   ],
   "source": [
    "# Table restricted to outlier data\n",
    "outlayers=sql.sqldf(\"\"\"\n",
    "                        select*from data\n",
    "                        where Effort>\"\"\" +str(uper_outlayers)\n",
    "                    +\"\"\" ;\"\"\")\n",
    "print(\"Table of outlayer is as follows\")\n",
    "\n",
    "display(outlayers)\n",
    "print(\"\"\"\n",
    "\n",
    "\n",
    "\"\"\")\n",
    "percentage_of_outlier=(100*np.shape(outlayers)[0])/(np.shape(data)[0])\n",
    "print(\"Percentage of outlayer values is approxmately \"+str(round(percentage_of_outlier)))\n",
    "\n",
    "print(\"\"\"\n",
    "\n",
    "\n",
    "\"\"\")\n"
   ]
  },
  {
   "cell_type": "code",
   "execution_count": null,
   "metadata": {},
   "outputs": [],
   "source": [
    "# Table restricted to outlier data and App suuupport service domain\n",
    "outlayers_ITILProcessType_appsupport=sql.sqldf(\"\"\" \n",
    "                                    select ITILProcessType as ITILProcessType_appsupport_Support,count(ITILProcessType),sum(Effort)\n",
    "                                    from outlayers\n",
    "                                    where ServiceDomaintype=\"App suport\"\n",
    "                                    group by ITILProcessType \n",
    "                                    \"\"\")\n",
    "display(outlayers_ITILProcessType_appsupport)\n",
    "percentage_of_outlier_came_from_appsummpot=(100*np.shape(outlayers)[0])/(np.shape(outlayers)[0])\n",
    "print(\"Percentage of outlayer values is approxmately \"+str(round(percentage_of_outlier)))"
   ]
  },
  {
   "cell_type": "code",
   "execution_count": null,
   "metadata": {},
   "outputs": [],
   "source": [
    "outlayers_ITILProcessType_Database_Support=sql.sqldf(\"\"\" \n",
    "                                    select ITILProcessType as ITILProcessType_Database_Support ,count(ITILProcessType),sum(Effort)\n",
    "                                    from outlayers\n",
    "                                    where ServiceDomaintype=\"Database Support\"\n",
    "                                    group by ITILProcessType \n",
    "                                    \"\"\")\n",
    "display(outlayers_ITILProcessType_Database_Support)"
   ]
  },
  {
   "cell_type": "code",
   "execution_count": null,
   "metadata": {},
   "outputs": [],
   "source": [
    "outlayers_count_complexcity=sql.sqldf(\"\"\"\n",
    "                        select Complexity  as complexcity_outlayer,count(Complexity) as count_complexcity,sum(Effort),(sum(Effort)/count(Complexity)) as avg_effort\n",
    "                        from data\n",
    "                        where Effort>\"\"\" +str(uper_outlayers)          \n",
    "                    +\"\"\" group by Complexity order by count_complexcity desc ;\"\"\")\n",
    "display(outlayers_count_complexcity)\n"
   ]
  }
 ],
 "metadata": {
  "kernelspec": {
   "display_name": "Python 3",
   "language": "python",
   "name": "python3"
  },
  "language_info": {
   "codemirror_mode": {
    "name": "ipython",
    "version": 3
   },
   "file_extension": ".py",
   "mimetype": "text/x-python",
   "name": "python",
   "nbconvert_exporter": "python",
   "pygments_lexer": "ipython3",
   "version": "3.8.5"
  }
 },
 "nbformat": 4,
 "nbformat_minor": 4
}
